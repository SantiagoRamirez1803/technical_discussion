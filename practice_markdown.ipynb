{
 "cells": [
  {
   "cell_type": "markdown",
   "id": "52e99a52-a4f9-4398-90fb-527bef391227",
   "metadata": {},
   "source": [
    "# CREAR MARKDOWN EN JUPYTER\n",
    "## Subtítulo 1\n",
    "* Esta es una declaración prueba\n",
    "* **Declaración 2**\n",
    "\n",
    "\n"
   ]
  },
  {
   "cell_type": "code",
   "execution_count": 12,
   "id": "6fdd23d9-b353-4244-8aca-c21299bff73d",
   "metadata": {},
   "outputs": [
    {
     "name": "stdout",
     "output_type": "stream",
     "text": [
      "Hello World\n"
     ]
    }
   ],
   "source": [
    "print(\"Hello World\")\n"
   ]
  }
 ],
 "metadata": {
  "kernelspec": {
   "display_name": "Python 3 (ipykernel)",
   "language": "python",
   "name": "python3"
  },
  "language_info": {
   "codemirror_mode": {
    "name": "ipython",
    "version": 3
   },
   "file_extension": ".py",
   "mimetype": "text/x-python",
   "name": "python",
   "nbconvert_exporter": "python",
   "pygments_lexer": "ipython3",
   "version": "3.11.7"
  }
 },
 "nbformat": 4,
 "nbformat_minor": 5
}
![Screenshot de sintaxis de formato básica.](https://github.com/SantiagoRamirez1803/technical_discussion/issues/1#issue-2740786615)
